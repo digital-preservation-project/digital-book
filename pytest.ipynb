{
 "cells": [
  {
   "cell_type": "code",
   "execution_count": 40,
   "metadata": {},
   "outputs": [],
   "source": [
    "import pytesseract\n",
    "from PIL import Image, ImageDraw, ImageFilter, ImageFont, ImageEnhance\n",
    "pytesseract.pytesseract.tesseract_cmd = 'C:\\Program Files\\Tesseract-OCR\\\\tesseract.exe'"
   ]
  },
  {
   "cell_type": "code",
   "execution_count": 42,
   "metadata": {},
   "outputs": [],
   "source": [
    "im = Image.open(\"1.jpg\")\n",
    "im.show()"
   ]
  },
  {
   "cell_type": "code",
   "execution_count": 38,
   "metadata": {},
   "outputs": [
    {
     "ename": "NameError",
     "evalue": "name 'ImageEnhance' is not defined",
     "output_type": "error",
     "traceback": [
      "\u001b[1;31m---------------------------------------------------------------------------\u001b[0m",
      "\u001b[1;31mNameError\u001b[0m                                 Traceback (most recent call last)",
      "\u001b[1;32mc:\\Users\\navra\\Desktop\\pytes\\pytest.ipynb Cell 2\u001b[0m in \u001b[0;36m<cell line: 2>\u001b[1;34m()\u001b[0m\n\u001b[0;32m      <a href='vscode-notebook-cell:/c%3A/Users/navra/Desktop/pytes/pytest.ipynb#W1sZmlsZQ%3D%3D?line=0'>1</a>\u001b[0m im \u001b[39m=\u001b[39m Image\u001b[39m.\u001b[39mopen(\u001b[39m\"\u001b[39m\u001b[39m1.jpg\u001b[39m\u001b[39m\"\u001b[39m)\n\u001b[1;32m----> <a href='vscode-notebook-cell:/c%3A/Users/navra/Desktop/pytes/pytest.ipynb#W1sZmlsZQ%3D%3D?line=1'>2</a>\u001b[0m enhancer \u001b[39m=\u001b[39m ImageEnhance\u001b[39m.\u001b[39mContrast(im)\n\u001b[0;32m      <a href='vscode-notebook-cell:/c%3A/Users/navra/Desktop/pytes/pytest.ipynb#W1sZmlsZQ%3D%3D?line=2'>3</a>\u001b[0m im \u001b[39m=\u001b[39m enhancer\u001b[39m.\u001b[39menhance(\u001b[39m1.\u001b[39m)\n\u001b[0;32m      <a href='vscode-notebook-cell:/c%3A/Users/navra/Desktop/pytes/pytest.ipynb#W1sZmlsZQ%3D%3D?line=6'>7</a>\u001b[0m data \u001b[39m=\u001b[39m pytesseract\u001b[39m.\u001b[39mimage_to_data(im, output_type\u001b[39m=\u001b[39m\u001b[39m'\u001b[39m\u001b[39mdict\u001b[39m\u001b[39m'\u001b[39m)\n",
      "\u001b[1;31mNameError\u001b[0m: name 'ImageEnhance' is not defined"
     ]
    }
   ],
   "source": [
    "\n",
    "\n",
    "data = pytesseract.image_to_data(im, output_type='dict')\n",
    "boxes = len(data['level'])\n",
    "im.show()\n",
    "text = pytesseract.image_to_string(im)\n",
    "print(text)\n"
   ]
  }
 ],
 "metadata": {
  "kernelspec": {
   "display_name": "Python 3",
   "language": "python",
   "name": "python3"
  },
  "language_info": {
   "codemirror_mode": {
    "name": "ipython",
    "version": 3
   },
   "file_extension": ".py",
   "mimetype": "text/x-python",
   "name": "python",
   "nbconvert_exporter": "python",
   "pygments_lexer": "ipython3",
   "version": "3.8.10"
  },
  "orig_nbformat": 4,
  "vscode": {
   "interpreter": {
    "hash": "548a561c9735794b29e2e8f35f7a1da104dab3664075845cd37b2b18cfba69fe"
   }
  }
 },
 "nbformat": 4,
 "nbformat_minor": 2
}
